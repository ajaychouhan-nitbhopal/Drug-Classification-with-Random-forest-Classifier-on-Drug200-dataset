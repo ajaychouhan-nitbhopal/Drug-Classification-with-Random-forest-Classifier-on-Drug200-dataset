{
  "nbformat": 4,
  "nbformat_minor": 0,
  "metadata": {
    "colab": {
      "name": "MY NOTEBOOK random_forest_classification-Copy1.ipynb",
      "provenance": [],
      "collapsed_sections": [],
      "machine_shape": "hm"
    },
    "kernelspec": {
      "display_name": "Python 3",
      "language": "python",
      "name": "python3"
    },
    "language_info": {
      "codemirror_mode": {
        "name": "ipython",
        "version": 3
      },
      "file_extension": ".py",
      "mimetype": "text/x-python",
      "name": "python",
      "nbconvert_exporter": "python",
      "pygments_lexer": "ipython3",
      "version": "3.7.2"
    }
  },
  "cells": [
    {
      "cell_type": "markdown",
      "metadata": {
        "id": "0MRC0e0KhQ0S"
      },
      "source": [
        "# Random Forest Classification for drug200 Dataset"
      ]
    },
    {
      "cell_type": "markdown",
      "metadata": {
        "id": "LWd1UlMnhT2s"
      },
      "source": [
        "## Importing the libraries"
      ]
    },
    {
      "cell_type": "code",
      "metadata": {
        "id": "YvGPUQaHhXfL"
      },
      "source": [
        "import numpy as np\n",
        "import matplotlib.pyplot as plt\n",
        "import pandas as pd"
      ],
      "execution_count": 1,
      "outputs": []
    },
    {
      "cell_type": "markdown",
      "metadata": {
        "id": "K1VMqkGvhc3-"
      },
      "source": [
        "## Importing the dataset"
      ]
    },
    {
      "cell_type": "code",
      "metadata": {
        "id": "M52QDmyzhh9s"
      },
      "source": [
        "data = pd.read_csv('drug200.csv')"
      ],
      "execution_count": 2,
      "outputs": []
    },
    {
      "cell_type": "markdown",
      "metadata": {
        "id": "Y27JmAjdsZnp"
      },
      "source": [
        "## Checking for null cells"
      ]
    },
    {
      "cell_type": "code",
      "metadata": {
        "id": "j7IOju0GsZnq",
        "outputId": "b19d496d-2497-4580-a862-753d7b3cf46b",
        "colab": {
          "base_uri": "https://localhost:8080/",
          "height": 134
        }
      },
      "source": [
        "data.isnull().sum()"
      ],
      "execution_count": 3,
      "outputs": [
        {
          "output_type": "execute_result",
          "data": {
            "text/plain": [
              "Age            0\n",
              "Sex            0\n",
              "BP             0\n",
              "Cholesterol    0\n",
              "Na_to_K        0\n",
              "Drug           0\n",
              "dtype: int64"
            ]
          },
          "metadata": {
            "tags": []
          },
          "execution_count": 3
        }
      ]
    },
    {
      "cell_type": "code",
      "metadata": {
        "id": "v17iE5DZu73E",
        "outputId": "f489112a-36f1-4525-b1c1-9af8d0df52e0",
        "colab": {
          "base_uri": "https://localhost:8080/",
          "height": 404
        }
      },
      "source": [
        "data"
      ],
      "execution_count": 4,
      "outputs": [
        {
          "output_type": "execute_result",
          "data": {
            "text/html": [
              "<div>\n",
              "<style scoped>\n",
              "    .dataframe tbody tr th:only-of-type {\n",
              "        vertical-align: middle;\n",
              "    }\n",
              "\n",
              "    .dataframe tbody tr th {\n",
              "        vertical-align: top;\n",
              "    }\n",
              "\n",
              "    .dataframe thead th {\n",
              "        text-align: right;\n",
              "    }\n",
              "</style>\n",
              "<table border=\"1\" class=\"dataframe\">\n",
              "  <thead>\n",
              "    <tr style=\"text-align: right;\">\n",
              "      <th></th>\n",
              "      <th>Age</th>\n",
              "      <th>Sex</th>\n",
              "      <th>BP</th>\n",
              "      <th>Cholesterol</th>\n",
              "      <th>Na_to_K</th>\n",
              "      <th>Drug</th>\n",
              "    </tr>\n",
              "  </thead>\n",
              "  <tbody>\n",
              "    <tr>\n",
              "      <th>0</th>\n",
              "      <td>23</td>\n",
              "      <td>F</td>\n",
              "      <td>HIGH</td>\n",
              "      <td>HIGH</td>\n",
              "      <td>25.355</td>\n",
              "      <td>drugY</td>\n",
              "    </tr>\n",
              "    <tr>\n",
              "      <th>1</th>\n",
              "      <td>47</td>\n",
              "      <td>M</td>\n",
              "      <td>LOW</td>\n",
              "      <td>HIGH</td>\n",
              "      <td>13.093</td>\n",
              "      <td>drugC</td>\n",
              "    </tr>\n",
              "    <tr>\n",
              "      <th>2</th>\n",
              "      <td>47</td>\n",
              "      <td>M</td>\n",
              "      <td>LOW</td>\n",
              "      <td>HIGH</td>\n",
              "      <td>10.114</td>\n",
              "      <td>drugC</td>\n",
              "    </tr>\n",
              "    <tr>\n",
              "      <th>3</th>\n",
              "      <td>28</td>\n",
              "      <td>F</td>\n",
              "      <td>NORMAL</td>\n",
              "      <td>HIGH</td>\n",
              "      <td>7.798</td>\n",
              "      <td>drugX</td>\n",
              "    </tr>\n",
              "    <tr>\n",
              "      <th>4</th>\n",
              "      <td>61</td>\n",
              "      <td>F</td>\n",
              "      <td>LOW</td>\n",
              "      <td>HIGH</td>\n",
              "      <td>18.043</td>\n",
              "      <td>drugY</td>\n",
              "    </tr>\n",
              "    <tr>\n",
              "      <th>...</th>\n",
              "      <td>...</td>\n",
              "      <td>...</td>\n",
              "      <td>...</td>\n",
              "      <td>...</td>\n",
              "      <td>...</td>\n",
              "      <td>...</td>\n",
              "    </tr>\n",
              "    <tr>\n",
              "      <th>195</th>\n",
              "      <td>56</td>\n",
              "      <td>F</td>\n",
              "      <td>LOW</td>\n",
              "      <td>HIGH</td>\n",
              "      <td>11.567</td>\n",
              "      <td>drugC</td>\n",
              "    </tr>\n",
              "    <tr>\n",
              "      <th>196</th>\n",
              "      <td>16</td>\n",
              "      <td>M</td>\n",
              "      <td>LOW</td>\n",
              "      <td>HIGH</td>\n",
              "      <td>12.006</td>\n",
              "      <td>drugC</td>\n",
              "    </tr>\n",
              "    <tr>\n",
              "      <th>197</th>\n",
              "      <td>52</td>\n",
              "      <td>M</td>\n",
              "      <td>NORMAL</td>\n",
              "      <td>HIGH</td>\n",
              "      <td>9.894</td>\n",
              "      <td>drugX</td>\n",
              "    </tr>\n",
              "    <tr>\n",
              "      <th>198</th>\n",
              "      <td>23</td>\n",
              "      <td>M</td>\n",
              "      <td>NORMAL</td>\n",
              "      <td>NORMAL</td>\n",
              "      <td>14.020</td>\n",
              "      <td>drugX</td>\n",
              "    </tr>\n",
              "    <tr>\n",
              "      <th>199</th>\n",
              "      <td>40</td>\n",
              "      <td>F</td>\n",
              "      <td>LOW</td>\n",
              "      <td>NORMAL</td>\n",
              "      <td>11.349</td>\n",
              "      <td>drugX</td>\n",
              "    </tr>\n",
              "  </tbody>\n",
              "</table>\n",
              "<p>200 rows × 6 columns</p>\n",
              "</div>"
            ],
            "text/plain": [
              "     Age Sex      BP Cholesterol  Na_to_K   Drug\n",
              "0     23   F    HIGH        HIGH   25.355  drugY\n",
              "1     47   M     LOW        HIGH   13.093  drugC\n",
              "2     47   M     LOW        HIGH   10.114  drugC\n",
              "3     28   F  NORMAL        HIGH    7.798  drugX\n",
              "4     61   F     LOW        HIGH   18.043  drugY\n",
              "..   ...  ..     ...         ...      ...    ...\n",
              "195   56   F     LOW        HIGH   11.567  drugC\n",
              "196   16   M     LOW        HIGH   12.006  drugC\n",
              "197   52   M  NORMAL        HIGH    9.894  drugX\n",
              "198   23   M  NORMAL      NORMAL   14.020  drugX\n",
              "199   40   F     LOW      NORMAL   11.349  drugX\n",
              "\n",
              "[200 rows x 6 columns]"
            ]
          },
          "metadata": {
            "tags": []
          },
          "execution_count": 4
        }
      ]
    },
    {
      "cell_type": "markdown",
      "metadata": {
        "id": "NncC2mVvsZnv"
      },
      "source": [
        "## Replacing categorical values of Sex column by dummy variables (Because it is independent category i.e. No one is higher or lower)"
      ]
    },
    {
      "cell_type": "code",
      "metadata": {
        "id": "qi2XmulQsZnv"
      },
      "source": [
        "# making dummies\n",
        "dummy_variable_sex = pd.get_dummies(data[\"Sex\"])\n",
        "# Concatenate\n",
        "data = pd.concat([data, dummy_variable_sex], axis=1)\n",
        "# Drop sex column\n",
        "data.drop(\"Sex\", axis = 1, inplace=True)"
      ],
      "execution_count": 5,
      "outputs": []
    },
    {
      "cell_type": "code",
      "metadata": {
        "id": "ACH6DftMyg-j",
        "outputId": "f120ea94-66d0-4022-da36-e8c4f4ba60fa",
        "colab": {
          "base_uri": "https://localhost:8080/",
          "height": 404
        }
      },
      "source": [
        "data"
      ],
      "execution_count": 6,
      "outputs": [
        {
          "output_type": "execute_result",
          "data": {
            "text/html": [
              "<div>\n",
              "<style scoped>\n",
              "    .dataframe tbody tr th:only-of-type {\n",
              "        vertical-align: middle;\n",
              "    }\n",
              "\n",
              "    .dataframe tbody tr th {\n",
              "        vertical-align: top;\n",
              "    }\n",
              "\n",
              "    .dataframe thead th {\n",
              "        text-align: right;\n",
              "    }\n",
              "</style>\n",
              "<table border=\"1\" class=\"dataframe\">\n",
              "  <thead>\n",
              "    <tr style=\"text-align: right;\">\n",
              "      <th></th>\n",
              "      <th>Age</th>\n",
              "      <th>BP</th>\n",
              "      <th>Cholesterol</th>\n",
              "      <th>Na_to_K</th>\n",
              "      <th>Drug</th>\n",
              "      <th>F</th>\n",
              "      <th>M</th>\n",
              "    </tr>\n",
              "  </thead>\n",
              "  <tbody>\n",
              "    <tr>\n",
              "      <th>0</th>\n",
              "      <td>23</td>\n",
              "      <td>HIGH</td>\n",
              "      <td>HIGH</td>\n",
              "      <td>25.355</td>\n",
              "      <td>drugY</td>\n",
              "      <td>1</td>\n",
              "      <td>0</td>\n",
              "    </tr>\n",
              "    <tr>\n",
              "      <th>1</th>\n",
              "      <td>47</td>\n",
              "      <td>LOW</td>\n",
              "      <td>HIGH</td>\n",
              "      <td>13.093</td>\n",
              "      <td>drugC</td>\n",
              "      <td>0</td>\n",
              "      <td>1</td>\n",
              "    </tr>\n",
              "    <tr>\n",
              "      <th>2</th>\n",
              "      <td>47</td>\n",
              "      <td>LOW</td>\n",
              "      <td>HIGH</td>\n",
              "      <td>10.114</td>\n",
              "      <td>drugC</td>\n",
              "      <td>0</td>\n",
              "      <td>1</td>\n",
              "    </tr>\n",
              "    <tr>\n",
              "      <th>3</th>\n",
              "      <td>28</td>\n",
              "      <td>NORMAL</td>\n",
              "      <td>HIGH</td>\n",
              "      <td>7.798</td>\n",
              "      <td>drugX</td>\n",
              "      <td>1</td>\n",
              "      <td>0</td>\n",
              "    </tr>\n",
              "    <tr>\n",
              "      <th>4</th>\n",
              "      <td>61</td>\n",
              "      <td>LOW</td>\n",
              "      <td>HIGH</td>\n",
              "      <td>18.043</td>\n",
              "      <td>drugY</td>\n",
              "      <td>1</td>\n",
              "      <td>0</td>\n",
              "    </tr>\n",
              "    <tr>\n",
              "      <th>...</th>\n",
              "      <td>...</td>\n",
              "      <td>...</td>\n",
              "      <td>...</td>\n",
              "      <td>...</td>\n",
              "      <td>...</td>\n",
              "      <td>...</td>\n",
              "      <td>...</td>\n",
              "    </tr>\n",
              "    <tr>\n",
              "      <th>195</th>\n",
              "      <td>56</td>\n",
              "      <td>LOW</td>\n",
              "      <td>HIGH</td>\n",
              "      <td>11.567</td>\n",
              "      <td>drugC</td>\n",
              "      <td>1</td>\n",
              "      <td>0</td>\n",
              "    </tr>\n",
              "    <tr>\n",
              "      <th>196</th>\n",
              "      <td>16</td>\n",
              "      <td>LOW</td>\n",
              "      <td>HIGH</td>\n",
              "      <td>12.006</td>\n",
              "      <td>drugC</td>\n",
              "      <td>0</td>\n",
              "      <td>1</td>\n",
              "    </tr>\n",
              "    <tr>\n",
              "      <th>197</th>\n",
              "      <td>52</td>\n",
              "      <td>NORMAL</td>\n",
              "      <td>HIGH</td>\n",
              "      <td>9.894</td>\n",
              "      <td>drugX</td>\n",
              "      <td>0</td>\n",
              "      <td>1</td>\n",
              "    </tr>\n",
              "    <tr>\n",
              "      <th>198</th>\n",
              "      <td>23</td>\n",
              "      <td>NORMAL</td>\n",
              "      <td>NORMAL</td>\n",
              "      <td>14.020</td>\n",
              "      <td>drugX</td>\n",
              "      <td>0</td>\n",
              "      <td>1</td>\n",
              "    </tr>\n",
              "    <tr>\n",
              "      <th>199</th>\n",
              "      <td>40</td>\n",
              "      <td>LOW</td>\n",
              "      <td>NORMAL</td>\n",
              "      <td>11.349</td>\n",
              "      <td>drugX</td>\n",
              "      <td>1</td>\n",
              "      <td>0</td>\n",
              "    </tr>\n",
              "  </tbody>\n",
              "</table>\n",
              "<p>200 rows × 7 columns</p>\n",
              "</div>"
            ],
            "text/plain": [
              "     Age      BP Cholesterol  Na_to_K   Drug  F  M\n",
              "0     23    HIGH        HIGH   25.355  drugY  1  0\n",
              "1     47     LOW        HIGH   13.093  drugC  0  1\n",
              "2     47     LOW        HIGH   10.114  drugC  0  1\n",
              "3     28  NORMAL        HIGH    7.798  drugX  1  0\n",
              "4     61     LOW        HIGH   18.043  drugY  1  0\n",
              "..   ...     ...         ...      ...    ... .. ..\n",
              "195   56     LOW        HIGH   11.567  drugC  1  0\n",
              "196   16     LOW        HIGH   12.006  drugC  0  1\n",
              "197   52  NORMAL        HIGH    9.894  drugX  0  1\n",
              "198   23  NORMAL      NORMAL   14.020  drugX  0  1\n",
              "199   40     LOW      NORMAL   11.349  drugX  1  0\n",
              "\n",
              "[200 rows x 7 columns]"
            ]
          },
          "metadata": {
            "tags": []
          },
          "execution_count": 6
        }
      ]
    },
    {
      "cell_type": "markdown",
      "metadata": {
        "id": "r0pbDyuZsZnz"
      },
      "source": [
        "## Extracting target variable"
      ]
    },
    {
      "cell_type": "code",
      "metadata": {
        "id": "VXoC9OZwsZn0",
        "outputId": "a848a1a0-fe63-4938-fcd9-d57a06888c76",
        "colab": {
          "base_uri": "https://localhost:8080/",
          "height": 502
        }
      },
      "source": [
        "y = data.iloc[:, -3].values\n",
        "y"
      ],
      "execution_count": 7,
      "outputs": [
        {
          "output_type": "execute_result",
          "data": {
            "text/plain": [
              "array(['drugY', 'drugC', 'drugC', 'drugX', 'drugY', 'drugX', 'drugY',\n",
              "       'drugC', 'drugY', 'drugY', 'drugC', 'drugY', 'drugY', 'drugY',\n",
              "       'drugX', 'drugY', 'drugX', 'drugA', 'drugC', 'drugY', 'drugY',\n",
              "       'drugY', 'drugY', 'drugY', 'drugY', 'drugY', 'drugY', 'drugX',\n",
              "       'drugY', 'drugY', 'drugX', 'drugB', 'drugX', 'drugY', 'drugX',\n",
              "       'drugX', 'drugA', 'drugX', 'drugX', 'drugX', 'drugY', 'drugB',\n",
              "       'drugY', 'drugX', 'drugX', 'drugX', 'drugA', 'drugC', 'drugY',\n",
              "       'drugY', 'drugY', 'drugX', 'drugY', 'drugY', 'drugB', 'drugC',\n",
              "       'drugB', 'drugY', 'drugX', 'drugY', 'drugY', 'drugA', 'drugY',\n",
              "       'drugX', 'drugB', 'drugY', 'drugA', 'drugX', 'drugY', 'drugY',\n",
              "       'drugB', 'drugY', 'drugX', 'drugY', 'drugY', 'drugY', 'drugA',\n",
              "       'drugY', 'drugA', 'drugX', 'drugB', 'drugX', 'drugC', 'drugA',\n",
              "       'drugC', 'drugB', 'drugX', 'drugY', 'drugY', 'drugY', 'drugY',\n",
              "       'drugY', 'drugY', 'drugY', 'drugY', 'drugX', 'drugY', 'drugY',\n",
              "       'drugY', 'drugY', 'drugA', 'drugA', 'drugC', 'drugX', 'drugY',\n",
              "       'drugX', 'drugX', 'drugY', 'drugB', 'drugY', 'drugA', 'drugX',\n",
              "       'drugX', 'drugX', 'drugX', 'drugY', 'drugX', 'drugX', 'drugA',\n",
              "       'drugY', 'drugY', 'drugY', 'drugY', 'drugY', 'drugB', 'drugY',\n",
              "       'drugY', 'drugX', 'drugY', 'drugX', 'drugY', 'drugY', 'drugX',\n",
              "       'drugY', 'drugY', 'drugX', 'drugB', 'drugA', 'drugB', 'drugX',\n",
              "       'drugA', 'drugY', 'drugB', 'drugY', 'drugA', 'drugX', 'drugX',\n",
              "       'drugA', 'drugX', 'drugC', 'drugA', 'drugB', 'drugX', 'drugX',\n",
              "       'drugY', 'drugC', 'drugA', 'drugY', 'drugC', 'drugX', 'drugX',\n",
              "       'drugB', 'drugX', 'drugY', 'drugY', 'drugY', 'drugY', 'drugX',\n",
              "       'drugY', 'drugA', 'drugX', 'drugX', 'drugY', 'drugY', 'drugA',\n",
              "       'drugY', 'drugA', 'drugY', 'drugY', 'drugY', 'drugY', 'drugX',\n",
              "       'drugX', 'drugY', 'drugY', 'drugY', 'drugB', 'drugA', 'drugY',\n",
              "       'drugY', 'drugY', 'drugA', 'drugY', 'drugC', 'drugY', 'drugC',\n",
              "       'drugC', 'drugX', 'drugX', 'drugX'], dtype=object)"
            ]
          },
          "metadata": {
            "tags": []
          },
          "execution_count": 7
        }
      ]
    },
    {
      "cell_type": "code",
      "metadata": {
        "id": "AOzRAUHOsZn4"
      },
      "source": [
        "# Dropping Drug column\n",
        "dataset = data.drop(\"Drug\", axis = 1, inplace=False)"
      ],
      "execution_count": 8,
      "outputs": []
    },
    {
      "cell_type": "code",
      "metadata": {
        "id": "CRepuAJqsZn8",
        "outputId": "5cd04c4a-ddd7-46b0-ea46-b86685703f51",
        "colab": {
          "base_uri": "https://localhost:8080/",
          "height": 251
        }
      },
      "source": [
        "print(dataset)"
      ],
      "execution_count": 9,
      "outputs": [
        {
          "output_type": "stream",
          "text": [
            "     Age      BP Cholesterol  Na_to_K  F  M\n",
            "0     23    HIGH        HIGH   25.355  1  0\n",
            "1     47     LOW        HIGH   13.093  0  1\n",
            "2     47     LOW        HIGH   10.114  0  1\n",
            "3     28  NORMAL        HIGH    7.798  1  0\n",
            "4     61     LOW        HIGH   18.043  1  0\n",
            "..   ...     ...         ...      ... .. ..\n",
            "195   56     LOW        HIGH   11.567  1  0\n",
            "196   16     LOW        HIGH   12.006  0  1\n",
            "197   52  NORMAL        HIGH    9.894  0  1\n",
            "198   23  NORMAL      NORMAL   14.020  0  1\n",
            "199   40     LOW      NORMAL   11.349  1  0\n",
            "\n",
            "[200 rows x 6 columns]\n"
          ],
          "name": "stdout"
        }
      ]
    },
    {
      "cell_type": "markdown",
      "metadata": {
        "id": "HOS0g_dUsZoA"
      },
      "source": [
        "## Replacing categorical values of BP and Cholesterol column by Label encoder (Because this is dependent ie higher and lower)"
      ]
    },
    {
      "cell_type": "code",
      "metadata": {
        "id": "TFi09-C-sZoB",
        "outputId": "200357e5-4ba1-4082-8153-42f950d6b0ca",
        "colab": {
          "base_uri": "https://localhost:8080/",
          "height": 134
        }
      },
      "source": [
        "# Converting dataframe into arrays\n",
        "dataset_array = dataset.values\n",
        "dataset_array"
      ],
      "execution_count": 10,
      "outputs": [
        {
          "output_type": "execute_result",
          "data": {
            "text/plain": [
              "array([[23, 'HIGH', 'HIGH', 25.355, 1, 0],\n",
              "       [47, 'LOW', 'HIGH', 13.093, 0, 1],\n",
              "       [47, 'LOW', 'HIGH', 10.113999999999999, 0, 1],\n",
              "       ...,\n",
              "       [52, 'NORMAL', 'HIGH', 9.894, 0, 1],\n",
              "       [23, 'NORMAL', 'NORMAL', 14.02, 0, 1],\n",
              "       [40, 'LOW', 'NORMAL', 11.349, 1, 0]], dtype=object)"
            ]
          },
          "metadata": {
            "tags": []
          },
          "execution_count": 10
        }
      ]
    },
    {
      "cell_type": "code",
      "metadata": {
        "id": "4DKOnj2EsZoF",
        "outputId": "82b34d68-8358-4426-9489-62bd59a18b70",
        "colab": {
          "base_uri": "https://localhost:8080/",
          "height": 134
        }
      },
      "source": [
        "# Using sklearn library's LabelEncoder class\n",
        "from sklearn.preprocessing import LabelEncoder\n",
        "le_BP = LabelEncoder()\n",
        "le_BP.fit([ 'LOW', 'NORMAL', 'HIGH'])\n",
        "dataset_array[:,1] = le_BP.transform(dataset_array[:,1])\n",
        "dataset_array"
      ],
      "execution_count": 11,
      "outputs": [
        {
          "output_type": "execute_result",
          "data": {
            "text/plain": [
              "array([[23, 0, 'HIGH', 25.355, 1, 0],\n",
              "       [47, 1, 'HIGH', 13.093, 0, 1],\n",
              "       [47, 1, 'HIGH', 10.113999999999999, 0, 1],\n",
              "       ...,\n",
              "       [52, 2, 'HIGH', 9.894, 0, 1],\n",
              "       [23, 2, 'NORMAL', 14.02, 0, 1],\n",
              "       [40, 1, 'NORMAL', 11.349, 1, 0]], dtype=object)"
            ]
          },
          "metadata": {
            "tags": []
          },
          "execution_count": 11
        }
      ]
    },
    {
      "cell_type": "code",
      "metadata": {
        "id": "KdzVsOpfsZoK"
      },
      "source": [
        "# Using sklearn library's LabelEncoder class\n",
        "from sklearn.preprocessing import LabelEncoder\n",
        "le_Chole = LabelEncoder()\n",
        "le_Chole.fit([ 'LOW', 'NORMAL', 'HIGH'])\n",
        "dataset_array[:,2] = le_Chole.transform(dataset_array[:,2])\n",
        "X = dataset_array\n"
      ],
      "execution_count": 12,
      "outputs": []
    },
    {
      "cell_type": "markdown",
      "metadata": {
        "id": "YvxIPVyMhmKp"
      },
      "source": [
        "## Splitting the dataset into the Train set and Test set"
      ]
    },
    {
      "cell_type": "code",
      "metadata": {
        "id": "AVzJWAXIhxoC"
      },
      "source": [
        "from sklearn.model_selection import train_test_split\n",
        "X_train, X_test, y_train, y_test = train_test_split(X, y, test_size = 0.25, random_state = 0)"
      ],
      "execution_count": 13,
      "outputs": []
    },
    {
      "cell_type": "code",
      "metadata": {
        "id": "P3nS3-6r1i2B",
        "outputId": "109e91f7-87e4-40df-cdbc-4fee856d3c8e",
        "colab": {
          "base_uri": "https://localhost:8080/",
          "height": 1000
        }
      },
      "source": [
        "print(X_train)"
      ],
      "execution_count": 14,
      "outputs": [
        {
          "output_type": "stream",
          "text": [
            "[[28 2 0 19.675 1 0]\n",
            " [53 0 2 12.495 1 0]\n",
            " [18 0 0 37.188 1 0]\n",
            " [56 0 0 25.395 1 0]\n",
            " [22 1 0 8.151 0 1]\n",
            " [33 1 0 33.486 1 0]\n",
            " [18 2 2 8.75 1 0]\n",
            " [30 2 0 10.443 1 0]\n",
            " [73 2 0 19.221 1 0]\n",
            " [65 0 2 11.34 0 1]\n",
            " [52 1 2 32.922 0 1]\n",
            " [58 1 0 38.247 1 0]\n",
            " [59 2 0 13.884 1 0]\n",
            " [32 0 2 25.974 1 0]\n",
            " [72 1 2 14.642000000000001 1 0]\n",
            " [29 0 0 29.45 1 0]\n",
            " [68 0 2 10.189 1 0]\n",
            " [21 0 2 28.631999999999998 1 0]\n",
            " [67 2 2 10.898 0 1]\n",
            " [51 2 0 13.597000000000001 1 0]\n",
            " [69 2 0 10.065 1 0]\n",
            " [62 2 0 16.594 0 1]\n",
            " [35 0 0 12.894 1 0]\n",
            " [45 0 0 12.854000000000001 1 0]\n",
            " [39 0 0 9.664 0 1]\n",
            " [50 2 2 17.211 1 0]\n",
            " [23 2 0 16.85 0 1]\n",
            " [50 2 0 12.703 1 0]\n",
            " [49 2 2 9.381 1 0]\n",
            " [64 1 2 25.741 1 0]\n",
            " [47 0 0 10.402999999999999 0 1]\n",
            " [37 0 0 13.091 1 0]\n",
            " [51 0 2 11.343 0 1]\n",
            " [56 1 0 11.567 1 0]\n",
            " [72 0 2 9.677 0 1]\n",
            " [67 1 2 20.693 0 1]\n",
            " [47 1 0 10.113999999999999 0 1]\n",
            " [34 0 0 18.703 0 1]\n",
            " [55 0 0 10.977 1 0]\n",
            " [52 2 0 9.894 0 1]\n",
            " [23 2 0 12.26 0 1]\n",
            " [47 1 0 11.767000000000001 1 0]\n",
            " [46 0 0 34.686 1 0]\n",
            " [41 2 2 22.905 1 0]\n",
            " [16 1 0 12.005999999999998 0 1]\n",
            " [39 2 0 15.969000000000001 0 1]\n",
            " [73 0 0 18.348 1 0]\n",
            " [66 0 0 16.347 0 1]\n",
            " [42 1 2 29.271 1 0]\n",
            " [35 1 2 9.17 0 1]\n",
            " [59 1 0 10.444 1 0]\n",
            " [23 0 0 8.011000000000001 0 1]\n",
            " [58 0 0 19.416 1 0]\n",
            " [23 0 0 25.355 1 0]\n",
            " [56 1 0 15.015 0 1]\n",
            " [50 0 0 7.49 0 1]\n",
            " [36 1 2 11.424000000000001 0 1]\n",
            " [60 0 0 13.302999999999999 1 0]\n",
            " [57 2 0 14.216 1 0]\n",
            " [58 0 2 14.239 1 0]\n",
            " [18 0 2 24.276 1 0]\n",
            " [28 1 0 19.796 1 0]\n",
            " [23 2 0 31.686 0 1]\n",
            " [59 0 0 13.935 0 1]\n",
            " [74 1 0 20.941999999999997 1 0]\n",
            " [57 0 2 9.945 1 0]\n",
            " [48 1 0 15.036 1 0]\n",
            " [70 0 0 9.849 0 1]\n",
            " [74 1 2 11.939 0 1]\n",
            " [57 1 2 19.128 0 1]\n",
            " [16 0 2 15.515999999999998 1 0]\n",
            " [19 0 0 13.312999999999999 1 0]\n",
            " [22 0 2 28.294 0 1]\n",
            " [62 1 2 27.183000000000003 0 1]\n",
            " [31 0 2 11.870999999999999 0 1]\n",
            " [36 0 0 11.198 1 0]\n",
            " [28 2 0 7.797999999999999 1 0]\n",
            " [67 2 2 9.514 0 1]\n",
            " [16 0 2 19.007 0 1]\n",
            " [23 2 2 14.02 0 1]\n",
            " [49 2 0 16.275 1 0]\n",
            " [54 2 0 24.658 0 1]\n",
            " [47 1 0 10.067 1 0]\n",
            " [15 0 2 17.206 0 1]\n",
            " [49 1 0 10.537 0 1]\n",
            " [45 1 2 10.017000000000001 0 1]\n",
            " [31 0 2 11.227 0 1]\n",
            " [41 0 2 15.155999999999999 0 1]\n",
            " [40 1 2 11.349 1 0]\n",
            " [34 0 2 19.199 1 0]\n",
            " [61 0 0 25.475 1 0]\n",
            " [28 1 0 13.127 1 0]\n",
            " [46 2 2 7.285 0 1]\n",
            " [40 0 0 27.826 0 1]\n",
            " [68 2 2 27.05 1 0]\n",
            " [47 1 0 13.093 0 1]\n",
            " [28 2 0 27.064 0 1]\n",
            " [43 2 2 12.859000000000002 0 1]\n",
            " [50 2 2 15.79 0 1]\n",
            " [37 1 2 8.968 0 1]\n",
            " [49 1 2 13.597999999999999 0 1]\n",
            " [41 1 2 18.739 1 0]\n",
            " [43 0 0 13.972000000000001 0 1]\n",
            " [39 2 2 9.709 1 0]\n",
            " [24 2 0 25.785999999999998 0 1]\n",
            " [24 0 2 18.457 1 0]\n",
            " [53 1 0 22.963 0 1]\n",
            " [47 1 2 33.542 0 1]\n",
            " [53 2 0 14.133 0 1]\n",
            " [39 1 2 22.697 1 0]\n",
            " [20 2 2 9.281 1 0]\n",
            " [68 0 0 11.009 0 1]\n",
            " [74 0 0 9.567 0 1]\n",
            " [58 1 0 26.645 1 0]\n",
            " [35 2 2 7.845 0 1]\n",
            " [48 0 2 10.446 0 1]\n",
            " [49 1 2 11.014000000000001 0 1]\n",
            " [60 0 2 8.621 0 1]\n",
            " [20 0 0 11.262 1 0]\n",
            " [26 0 2 12.307 1 0]\n",
            " [45 1 0 17.951 0 1]\n",
            " [15 0 2 16.725 1 0]\n",
            " [32 1 0 9.712 1 0]\n",
            " [32 1 2 10.84 1 0]\n",
            " [51 0 0 18.295 0 1]\n",
            " [61 1 2 7.34 1 0]\n",
            " [72 1 0 6.769 0 1]\n",
            " [24 2 0 10.605 1 0]\n",
            " [26 0 2 19.160999999999998 1 0]\n",
            " [28 0 2 18.809 1 0]\n",
            " [38 1 0 18.295 0 1]\n",
            " [64 2 0 7.761 0 1]\n",
            " [65 0 2 34.997 0 1]\n",
            " [42 0 2 12.765999999999998 0 1]\n",
            " [58 0 0 18.991 0 1]\n",
            " [15 2 0 9.084 0 1]\n",
            " [60 2 2 10.091000000000001 0 1]\n",
            " [49 0 2 6.269 0 1]\n",
            " [37 0 2 23.090999999999998 1 0]\n",
            " [70 0 0 13.967 0 1]\n",
            " [69 1 0 15.478 0 1]\n",
            " [32 0 2 9.445 0 1]\n",
            " [63 2 0 25.916999999999998 0 1]\n",
            " [43 1 2 19.368 0 1]\n",
            " [56 2 0 8.966000000000001 0 1]\n",
            " [17 2 2 10.832 0 1]\n",
            " [72 1 0 16.31 0 1]\n",
            " [40 2 0 10.103 1 0]\n",
            " [68 1 0 10.290999999999999 0 1]\n",
            " [39 2 2 17.225 1 0]]\n"
          ],
          "name": "stdout"
        }
      ]
    },
    {
      "cell_type": "code",
      "metadata": {
        "id": "8dpDLojm1mVG",
        "outputId": "11c696bb-75ee-4bec-94f2-e63c96329978",
        "colab": {
          "base_uri": "https://localhost:8080/",
          "height": 301
        }
      },
      "source": [
        "print(y_train)"
      ],
      "execution_count": 15,
      "outputs": [
        {
          "output_type": "stream",
          "text": [
            "['drugY' 'drugB' 'drugY' 'drugY' 'drugC' 'drugY' 'drugX' 'drugX' 'drugY'\n",
            " 'drugB' 'drugY' 'drugY' 'drugX' 'drugY' 'drugX' 'drugY' 'drugB' 'drugY'\n",
            " 'drugX' 'drugX' 'drugX' 'drugY' 'drugA' 'drugA' 'drugA' 'drugY' 'drugY'\n",
            " 'drugX' 'drugX' 'drugY' 'drugA' 'drugA' 'drugB' 'drugC' 'drugB' 'drugY'\n",
            " 'drugC' 'drugY' 'drugB' 'drugX' 'drugX' 'drugC' 'drugY' 'drugY' 'drugC'\n",
            " 'drugY' 'drugY' 'drugY' 'drugY' 'drugX' 'drugC' 'drugA' 'drugY' 'drugY'\n",
            " 'drugY' 'drugA' 'drugX' 'drugB' 'drugX' 'drugB' 'drugY' 'drugY' 'drugY'\n",
            " 'drugB' 'drugY' 'drugB' 'drugY' 'drugB' 'drugX' 'drugY' 'drugY' 'drugA'\n",
            " 'drugY' 'drugY' 'drugA' 'drugA' 'drugX' 'drugX' 'drugY' 'drugX' 'drugY'\n",
            " 'drugY' 'drugC' 'drugY' 'drugC' 'drugX' 'drugA' 'drugY' 'drugX' 'drugY'\n",
            " 'drugY' 'drugC' 'drugX' 'drugY' 'drugY' 'drugC' 'drugY' 'drugX' 'drugY'\n",
            " 'drugX' 'drugX' 'drugY' 'drugA' 'drugX' 'drugY' 'drugY' 'drugY' 'drugY'\n",
            " 'drugX' 'drugY' 'drugX' 'drugB' 'drugB' 'drugY' 'drugX' 'drugA' 'drugX'\n",
            " 'drugB' 'drugA' 'drugA' 'drugY' 'drugY' 'drugC' 'drugX' 'drugY' 'drugX'\n",
            " 'drugC' 'drugX' 'drugY' 'drugY' 'drugY' 'drugX' 'drugY' 'drugA' 'drugY'\n",
            " 'drugX' 'drugX' 'drugA' 'drugY' 'drugB' 'drugY' 'drugA' 'drugY' 'drugY'\n",
            " 'drugX' 'drugX' 'drugY' 'drugX' 'drugC' 'drugY']\n"
          ],
          "name": "stdout"
        }
      ]
    },
    {
      "cell_type": "code",
      "metadata": {
        "id": "qbb7i0DH1qui",
        "outputId": "44f9055c-23d6-46d4-8112-d664a7395f93",
        "colab": {
          "base_uri": "https://localhost:8080/",
          "height": 853
        }
      },
      "source": [
        "print(X_test)"
      ],
      "execution_count": 16,
      "outputs": [
        {
          "output_type": "stream",
          "text": [
            "[[23 1 0 7.297999999999999 0 1]\n",
            " [28 2 0 12.879000000000001 1 0]\n",
            " [42 1 0 20.012999999999998 0 1]\n",
            " [20 0 2 35.639 0 1]\n",
            " [25 2 0 19.011 0 1]\n",
            " [20 1 2 11.686 1 0]\n",
            " [22 2 0 8.607000000000001 1 0]\n",
            " [37 1 2 12.005999999999998 1 0]\n",
            " [43 1 0 15.376 0 1]\n",
            " [55 2 2 7.261 0 1]\n",
            " [24 0 2 9.475 0 1]\n",
            " [19 0 2 25.969 1 0]\n",
            " [22 0 2 22.818 1 0]\n",
            " [37 1 2 16.724 0 1]\n",
            " [60 0 0 13.934000000000001 0 1]\n",
            " [41 1 0 11.037 0 1]\n",
            " [65 0 2 31.875999999999998 1 0]\n",
            " [70 2 0 20.489 1 0]\n",
            " [39 1 2 13.937999999999999 0 1]\n",
            " [31 0 2 17.069000000000003 0 1]\n",
            " [36 0 2 15.49 1 0]\n",
            " [61 2 0 9.443 0 1]\n",
            " [66 2 2 8.107000000000001 1 0]\n",
            " [34 1 2 12.923 1 0]\n",
            " [38 1 2 29.875 1 0]\n",
            " [36 2 0 16.753 1 0]\n",
            " [67 2 0 15.890999999999998 1 0]\n",
            " [57 2 2 25.893 1 0]\n",
            " [34 2 0 22.456 0 1]\n",
            " [50 2 2 12.295 1 0]\n",
            " [69 1 2 11.455 0 1]\n",
            " [26 1 0 14.16 1 0]\n",
            " [49 0 2 8.7 0 1]\n",
            " [47 2 2 6.683 1 0]\n",
            " [47 1 2 30.568 0 1]\n",
            " [64 0 2 20.932 0 1]\n",
            " [32 2 0 7.477 1 0]\n",
            " [61 1 0 18.043 1 0]\n",
            " [38 0 2 11.325999999999999 1 0]\n",
            " [22 2 0 11.953 0 1]\n",
            " [42 0 0 21.035999999999998 1 0]\n",
            " [29 0 0 12.856 0 1]\n",
            " [31 0 0 30.366 0 1]\n",
            " [65 1 2 13.769 1 0]\n",
            " [51 1 2 23.003 1 0]\n",
            " [45 1 2 8.37 0 1]\n",
            " [60 2 0 15.171 0 1]\n",
            " [26 1 2 20.909000000000002 0 1]\n",
            " [32 0 2 10.292 1 0]\n",
            " [74 0 2 15.436 0 1]]\n"
          ],
          "name": "stdout"
        }
      ]
    },
    {
      "cell_type": "code",
      "metadata": {
        "id": "kj1hnFAR1s5w",
        "outputId": "6c412c21-6a4e-456b-ca93-0d21af8e1340",
        "colab": {
          "base_uri": "https://localhost:8080/",
          "height": 117
        }
      },
      "source": [
        "print(y_test)"
      ],
      "execution_count": 17,
      "outputs": [
        {
          "output_type": "stream",
          "text": [
            "['drugC' 'drugX' 'drugY' 'drugY' 'drugY' 'drugX' 'drugX' 'drugX' 'drugY'\n",
            " 'drugX' 'drugA' 'drugY' 'drugY' 'drugY' 'drugB' 'drugC' 'drugY' 'drugY'\n",
            " 'drugX' 'drugY' 'drugY' 'drugX' 'drugX' 'drugX' 'drugY' 'drugY' 'drugY'\n",
            " 'drugY' 'drugY' 'drugX' 'drugX' 'drugC' 'drugA' 'drugX' 'drugY' 'drugY'\n",
            " 'drugX' 'drugY' 'drugA' 'drugX' 'drugY' 'drugA' 'drugY' 'drugX' 'drugY'\n",
            " 'drugX' 'drugY' 'drugY' 'drugA' 'drugY']\n"
          ],
          "name": "stdout"
        }
      ]
    },
    {
      "cell_type": "markdown",
      "metadata": {
        "id": "kW3c7UYih0hT"
      },
      "source": [
        "## Feature Scaling"
      ]
    },
    {
      "cell_type": "code",
      "metadata": {
        "id": "9fQlDPKCh8sc"
      },
      "source": [
        "from sklearn.preprocessing import StandardScaler\n",
        "sc = StandardScaler()\n",
        "X_train = sc.fit_transform(X_train)\n",
        "X_test = sc.transform(X_test)"
      ],
      "execution_count": 18,
      "outputs": []
    },
    {
      "cell_type": "code",
      "metadata": {
        "id": "syrnD1Op2BSR",
        "outputId": "f85132e0-18bc-475e-ad30-a03edcd24a6d",
        "colab": {
          "base_uri": "https://localhost:8080/",
          "height": 1000
        }
      },
      "source": [
        "print(X_train)"
      ],
      "execution_count": 19,
      "outputs": [
        {
          "output_type": "stream",
          "text": [
            "[[-1.02115602e+00  1.35926601e+00 -9.10641693e-01  5.06340190e-01\n",
            "   1.05483461e+00 -1.05483461e+00]\n",
            " [ 4.79955337e-01 -1.06799472e+00  1.09812675e+00 -4.86810984e-01\n",
            "   1.05483461e+00 -1.05483461e+00]\n",
            " [-1.62160056e+00 -1.06799472e+00 -9.10641693e-01  2.92877146e+00\n",
            "   1.05483461e+00 -1.05483461e+00]\n",
            " [ 6.60088699e-01 -1.06799472e+00 -9.10641693e-01  1.29754140e+00\n",
            "   1.05483461e+00 -1.05483461e+00]\n",
            " [-1.38142274e+00  1.45635644e-01 -9.10641693e-01 -1.08768128e+00\n",
            "  -9.48015916e-01  9.48015916e-01]\n",
            " [-7.20933746e-01  1.45635644e-01 -9.10641693e-01  2.41670382e+00\n",
            "   1.05483461e+00 -1.05483461e+00]\n",
            " [-1.62160056e+00  1.35926601e+00  1.09812675e+00 -1.00482646e+00\n",
            "   1.05483461e+00 -1.05483461e+00]\n",
            " [-9.01067109e-01  1.35926601e+00 -9.10641693e-01 -7.70647503e-01\n",
            "   1.05483461e+00 -1.05483461e+00]\n",
            " [ 1.68084442e+00  1.35926601e+00 -9.10641693e-01  4.43542052e-01\n",
            "   1.05483461e+00 -1.05483461e+00]\n",
            " [ 1.20048879e+00 -1.06799472e+00  1.09812675e+00 -6.46572767e-01\n",
            "  -9.48015916e-01  9.48015916e-01]\n",
            " [ 4.19910883e-01  1.45635644e-01  1.09812675e+00  2.33869027e+00\n",
            "  -9.48015916e-01  9.48015916e-01]\n",
            " [ 7.80177608e-01  1.45635644e-01 -9.10641693e-01  3.07525434e+00\n",
            "   1.05483461e+00 -1.05483461e+00]\n",
            " [ 8.40222062e-01  1.35926601e+00 -9.10641693e-01 -2.94681878e-01\n",
            "   1.05483461e+00 -1.05483461e+00]\n",
            " [-7.80978200e-01 -1.06799472e+00  1.09812675e+00  1.37762978e+00\n",
            "   1.05483461e+00 -1.05483461e+00]\n",
            " [ 1.62079997e+00  1.45635644e-01  1.09812675e+00 -1.89833885e-01\n",
            "   1.05483461e+00 -1.05483461e+00]\n",
            " [-9.61111563e-01 -1.06799472e+00 -9.10641693e-01  1.85843667e+00\n",
            "   1.05483461e+00 -1.05483461e+00]\n",
            " [ 1.38062215e+00 -1.06799472e+00  1.09812675e+00 -8.05781263e-01\n",
            "   1.05483461e+00 -1.05483461e+00]\n",
            " [-1.44146720e+00 -1.06799472e+00  1.09812675e+00  1.74528936e+00\n",
            "   1.05483461e+00 -1.05483461e+00]\n",
            " [ 1.32057770e+00  1.35926601e+00  1.09812675e+00 -7.07711043e-01\n",
            "  -9.48015916e-01  9.48015916e-01]\n",
            " [ 3.59866429e-01  1.35926601e+00 -9.10641693e-01 -3.34380260e-01\n",
            "   1.05483461e+00 -1.05483461e+00]\n",
            " [ 1.44066660e+00  1.35926601e+00 -9.10641693e-01 -8.22933178e-01\n",
            "   1.05483461e+00 -1.05483461e+00]\n",
            " [ 1.02035542e+00  1.35926601e+00 -9.10641693e-01  8.01704456e-02\n",
            "  -9.48015916e-01  9.48015916e-01]\n",
            " [-6.00844838e-01 -1.06799472e+00 -9.10641693e-01 -4.31620549e-01\n",
            "   1.05483461e+00 -1.05483461e+00]\n",
            " [-4.00296361e-04 -1.06799472e+00 -9.10641693e-01 -4.37153425e-01\n",
            "   1.05483461e+00 -1.05483461e+00]\n",
            " [-3.60667021e-01 -1.06799472e+00 -9.10641693e-01 -8.78400256e-01\n",
            "  -9.48015916e-01  9.48015916e-01]\n",
            " [ 2.99821974e-01  1.35926601e+00  1.09812675e+00  1.65515052e-01\n",
            "   1.05483461e+00 -1.05483461e+00]\n",
            " [-1.32137829e+00  1.35926601e+00 -9.10641693e-01  1.15580850e-01\n",
            "  -9.48015916e-01  9.48015916e-01]\n",
            " [ 2.99821974e-01  1.35926601e+00 -9.10641693e-01 -4.58040031e-01\n",
            "   1.05483461e+00 -1.05483461e+00]\n",
            " [ 2.39777520e-01  1.35926601e+00  1.09812675e+00 -9.17545351e-01\n",
            "   1.05483461e+00 -1.05483461e+00]\n",
            " [ 1.14044433e+00  1.45635644e-01  1.09812675e+00  1.34540078e+00\n",
            "   1.05483461e+00 -1.05483461e+00]\n",
            " [ 1.19688612e-01 -1.06799472e+00 -9.10641693e-01 -7.76180379e-01\n",
            "  -9.48015916e-01  9.48015916e-01]\n",
            " [-4.80755930e-01 -1.06799472e+00 -9.10641693e-01 -4.04371137e-01\n",
            "   1.05483461e+00 -1.05483461e+00]\n",
            " [ 3.59866429e-01 -1.06799472e+00  1.09812675e+00 -6.46157802e-01\n",
            "  -9.48015916e-01  9.48015916e-01]\n",
            " [ 6.60088699e-01  1.45635644e-01 -9.10641693e-01 -6.15173698e-01\n",
            "   1.05483461e+00 -1.05483461e+00]\n",
            " [ 1.62079997e+00 -1.06799472e+00  1.09812675e+00 -8.76602071e-01\n",
            "  -9.48015916e-01  9.48015916e-01]\n",
            " [ 1.32057770e+00  1.45635644e-01  1.09812675e+00  6.47151875e-01\n",
            "  -9.48015916e-01  9.48015916e-01]\n",
            " [ 1.19688612e-01  1.45635644e-01 -9.10641693e-01 -8.16155405e-01\n",
            "  -9.48015916e-01  9.48015916e-01]\n",
            " [-6.60889292e-01 -1.06799472e+00 -9.10641693e-01  3.71891313e-01\n",
            "  -9.48015916e-01  9.48015916e-01]\n",
            " [ 6.00044245e-01 -1.06799472e+00 -9.10641693e-01 -6.96783614e-01\n",
            "   1.05483461e+00 -1.05483461e+00]\n",
            " [ 4.19910883e-01  1.35926601e+00 -9.10641693e-01 -8.46586221e-01\n",
            "  -9.48015916e-01  9.48015916e-01]\n",
            " [-1.32137829e+00  1.35926601e+00 -9.10641693e-01 -5.19316628e-01\n",
            "  -9.48015916e-01  9.48015916e-01]\n",
            " [ 1.19688612e-01  1.45635644e-01 -9.10641693e-01 -5.87509320e-01\n",
            "   1.05483461e+00 -1.05483461e+00]\n",
            " [ 5.96441578e-02 -1.06799472e+00 -9.10641693e-01  2.58269009e+00\n",
            "   1.05483461e+00 -1.05483461e+00]\n",
            " [-2.40578113e-01  1.35926601e+00  1.09812675e+00  9.53119897e-01\n",
            "   1.05483461e+00 -1.05483461e+00]\n",
            " [-1.74168947e+00  1.45635644e-01 -9.10641693e-01 -5.54450388e-01\n",
            "  -9.48015916e-01  9.48015916e-01]\n",
            " [-3.60667021e-01  1.35926601e+00 -9.10641693e-01 -6.28073598e-03\n",
            "  -9.48015916e-01  9.48015916e-01]\n",
            " [ 1.68084442e+00 -1.06799472e+00 -9.10641693e-01  3.22787042e-01\n",
            "   1.05483461e+00 -1.05483461e+00]\n",
            " [ 1.26053324e+00 -1.06799472e+00 -9.10641693e-01  4.60049386e-02\n",
            "  -9.48015916e-01  9.48015916e-01]\n",
            " [-1.80533659e-01  1.45635644e-01  1.09812675e+00  1.83367705e+00\n",
            "   1.05483461e+00 -1.05483461e+00]\n",
            " [-6.00844838e-01  1.45635644e-01  1.09812675e+00 -9.46731270e-01\n",
            "  -9.48015916e-01  9.48015916e-01]\n",
            " [ 8.40222062e-01  1.45635644e-01 -9.10641693e-01 -7.70509181e-01\n",
            "   1.05483461e+00 -1.05483461e+00]\n",
            " [-1.32137829e+00 -1.06799472e+00 -9.10641693e-01 -1.10704634e+00\n",
            "  -9.48015916e-01  9.48015916e-01]\n",
            " [ 7.80177608e-01 -1.06799472e+00 -9.10641693e-01  4.70514821e-01\n",
            "   1.05483461e+00 -1.05483461e+00]\n",
            " [-1.32137829e+00 -1.06799472e+00 -9.10641693e-01  1.29200853e+00\n",
            "   1.05483461e+00 -1.05483461e+00]\n",
            " [ 6.60088699e-01  1.45635644e-01 -9.10641693e-01 -1.38239820e-01\n",
            "  -9.48015916e-01  9.48015916e-01]\n",
            " [ 2.99821974e-01 -1.06799472e+00 -9.10641693e-01 -1.17911205e+00\n",
            "  -9.48015916e-01  9.48015916e-01]\n",
            " [-5.40800384e-01  1.45635644e-01  1.09812675e+00 -6.34953729e-01\n",
            "  -9.48015916e-01  9.48015916e-01]\n",
            " [ 9.00266516e-01 -1.06799472e+00 -9.10641693e-01 -3.75046896e-01\n",
            "   1.05483461e+00 -1.05483461e+00]\n",
            " [ 7.20133154e-01  1.35926601e+00 -9.10641693e-01 -2.48759010e-01\n",
            "   1.05483461e+00 -1.05483461e+00]\n",
            " [ 7.80177608e-01 -1.06799472e+00  1.09812675e+00 -2.45577607e-01\n",
            "   1.05483461e+00 -1.05483461e+00]\n",
            " [-1.62160056e+00 -1.06799472e+00  1.09812675e+00  1.14275921e+00\n",
            "   1.05483461e+00 -1.05483461e+00]\n",
            " [-1.02115602e+00  1.45635644e-01 -9.10641693e-01  5.23077139e-01\n",
            "   1.05483461e+00 -1.05483461e+00]\n",
            " [-1.32137829e+00  1.35926601e+00 -9.10641693e-01  2.16772442e+00\n",
            "  -9.48015916e-01  9.48015916e-01]\n",
            " [ 8.40222062e-01 -1.06799472e+00 -9.10641693e-01 -2.87627461e-01\n",
            "  -9.48015916e-01  9.48015916e-01]\n",
            " [ 1.74088887e+00  1.45635644e-01 -9.10641693e-01  6.81594026e-01\n",
            "   1.05483461e+00 -1.05483461e+00]\n",
            " [ 7.20133154e-01 -1.06799472e+00  1.09812675e+00 -8.39531805e-01\n",
            "   1.05483461e+00 -1.05483461e+00]\n",
            " [ 1.79733066e-01  1.45635644e-01 -9.10641693e-01 -1.35335060e-01\n",
            "   1.05483461e+00 -1.05483461e+00]\n",
            " [ 1.50071106e+00 -1.06799472e+00 -9.10641693e-01 -8.52810706e-01\n",
            "  -9.48015916e-01  9.48015916e-01]\n",
            " [ 1.74088887e+00  1.45635644e-01  1.09812675e+00 -5.63717955e-01\n",
            "  -9.48015916e-01  9.48015916e-01]\n",
            " [ 7.20133154e-01  1.45635644e-01  1.09812675e+00  4.30678116e-01\n",
            "  -9.48015916e-01  9.48015916e-01]\n",
            " [-1.74168947e+00 -1.06799472e+00  1.09812675e+00 -6.89405524e-02\n",
            "   1.05483461e+00 -1.05483461e+00]\n",
            " [-1.56155610e+00 -1.06799472e+00 -9.10641693e-01 -3.73663677e-01\n",
            "   1.05483461e+00 -1.05483461e+00]\n",
            " [-1.38142274e+00 -1.06799472e+00  1.09812675e+00  1.69853657e+00\n",
            "  -9.48015916e-01  9.48015916e-01]\n",
            " [ 1.02035542e+00  1.45635644e-01  1.09812675e+00  1.54486094e+00\n",
            "  -9.48015916e-01  9.48015916e-01]\n",
            " [-8.41022655e-01 -1.06799472e+00  1.09812675e+00 -5.73123843e-01\n",
            "  -9.48015916e-01  9.48015916e-01]\n",
            " [-5.40800384e-01 -1.06799472e+00 -9.10641693e-01 -6.66214476e-01\n",
            "   1.05483461e+00 -1.05483461e+00]\n",
            " [-1.02115602e+00  1.35926601e+00 -9.10641693e-01 -1.13650890e+00\n",
            "   1.05483461e+00 -1.05483461e+00]\n",
            " [ 1.32057770e+00  1.35926601e+00  1.09812675e+00 -8.99148539e-01\n",
            "  -9.48015916e-01  9.48015916e-01]\n",
            " [-1.74168947e+00 -1.06799472e+00  1.09812675e+00  4.13941168e-01\n",
            "  -9.48015916e-01  9.48015916e-01]\n",
            " [-1.32137829e+00  1.35926601e+00  1.09812675e+00 -2.75870101e-01\n",
            "  -9.48015916e-01  9.48015916e-01]\n",
            " [ 2.39777520e-01  1.35926601e+00 -9.10641693e-01  3.60457625e-02\n",
            "   1.05483461e+00 -1.05483461e+00]\n",
            " [ 5.39999791e-01  1.35926601e+00 -9.10641693e-01  1.19559817e+00\n",
            "  -9.48015916e-01  9.48015916e-01]\n",
            " [ 1.19688612e-01  1.45635644e-01 -9.10641693e-01 -8.22656534e-01\n",
            "   1.05483461e+00 -1.05483461e+00]\n",
            " [-1.80173392e+00 -1.06799472e+00  1.09812675e+00  1.64823443e-01\n",
            "  -9.48015916e-01  9.48015916e-01]\n",
            " [ 2.39777520e-01  1.45635644e-01 -9.10641693e-01 -7.57645245e-01\n",
            "  -9.48015916e-01  9.48015916e-01]\n",
            " [-4.00296361e-04  1.45635644e-01  1.09812675e+00 -8.29572629e-01\n",
            "  -9.48015916e-01  9.48015916e-01]\n",
            " [-8.41022655e-01 -1.06799472e+00  1.09812675e+00 -6.62203141e-01\n",
            "  -9.48015916e-01  9.48015916e-01]\n",
            " [-2.40578113e-01 -1.06799472e+00  1.09812675e+00 -1.18736433e-01\n",
            "  -9.48015916e-01  9.48015916e-01]\n",
            " [-3.00622567e-01  1.45635644e-01  1.09812675e+00 -6.45327870e-01\n",
            "   1.05483461e+00 -1.05483461e+00]\n",
            " [-6.60889292e-01 -1.06799472e+00  1.09812675e+00  4.40498970e-01\n",
            "   1.05483461e+00 -1.05483461e+00]\n",
            " [ 9.60310970e-01 -1.06799472e+00 -9.10641693e-01  1.30860716e+00\n",
            "   1.05483461e+00 -1.05483461e+00]\n",
            " [-1.02115602e+00  1.45635644e-01 -9.10641693e-01 -3.99391549e-01\n",
            "   1.05483461e+00 -1.05483461e+00]\n",
            " [ 5.96441578e-02  1.35926601e+00  1.09812675e+00 -1.20746803e+00\n",
            "  -9.48015916e-01  9.48015916e-01]\n",
            " [-3.00622567e-01 -1.06799472e+00 -9.10641693e-01  1.63380192e+00\n",
            "  -9.48015916e-01  9.48015916e-01]\n",
            " [ 1.38062215e+00  1.35926601e+00  1.09812675e+00  1.52646413e+00\n",
            "   1.05483461e+00 -1.05483461e+00]\n",
            " [ 1.19688612e-01  1.45635644e-01 -9.10641693e-01 -4.04094493e-01\n",
            "  -9.48015916e-01  9.48015916e-01]\n",
            " [-1.02115602e+00  1.35926601e+00 -9.10641693e-01  1.52840064e+00\n",
            "  -9.48015916e-01  9.48015916e-01]\n",
            " [-1.20489205e-01  1.35926601e+00  1.09812675e+00 -4.36461816e-01\n",
            "  -9.48015916e-01  9.48015916e-01]\n",
            " [ 2.99821974e-01  1.35926601e+00  1.09812675e+00 -3.10403544e-02\n",
            "  -9.48015916e-01  9.48015916e-01]\n",
            " [-4.80755930e-01  1.45635644e-01  1.09812675e+00 -9.74672292e-01\n",
            "  -9.48015916e-01  9.48015916e-01]\n",
            " [ 2.39777520e-01  1.45635644e-01  1.09812675e+00 -3.34241938e-01\n",
            "  -9.48015916e-01  9.48015916e-01]\n",
            " [-2.40578113e-01  1.45635644e-01  1.09812675e+00  3.76870901e-01\n",
            "   1.05483461e+00 -1.05483461e+00]\n",
            " [-1.20489205e-01 -1.06799472e+00 -9.10641693e-01 -2.82509551e-01\n",
            "  -9.48015916e-01  9.48015916e-01]\n",
            " [-3.60667021e-01  1.35926601e+00  1.09812675e+00 -8.72175771e-01\n",
            "   1.05483461e+00 -1.05483461e+00]\n",
            " [-1.26133383e+00  1.35926601e+00 -9.10641693e-01  1.35162526e+00\n",
            "  -9.48015916e-01  9.48015916e-01]\n",
            " [-1.26133383e+00 -1.06799472e+00  1.09812675e+00  3.37864128e-01\n",
            "   1.05483461e+00 -1.05483461e+00]\n",
            " [ 4.79955337e-01  1.45635644e-01 -9.10641693e-01  9.61142567e-01\n",
            "  -9.48015916e-01  9.48015916e-01]\n",
            " [ 1.19688612e-01  1.45635644e-01  1.09812675e+00  2.42444985e+00\n",
            "  -9.48015916e-01  9.48015916e-01]\n",
            " [ 4.79955337e-01  1.35926601e+00 -9.10641693e-01 -2.60239727e-01\n",
            "  -9.48015916e-01  9.48015916e-01]\n",
            " [-3.60667021e-01  1.45635644e-01  1.09812675e+00  9.24348944e-01\n",
            "   1.05483461e+00 -1.05483461e+00]\n",
            " [-1.50151165e+00  1.35926601e+00  1.09812675e+00 -9.31377540e-01\n",
            "   1.05483461e+00 -1.05483461e+00]\n",
            " [ 1.38062215e+00 -1.06799472e+00 -9.10641693e-01 -6.92357313e-01\n",
            "  -9.48015916e-01  9.48015916e-01]\n",
            " [ 1.74088887e+00 -1.06799472e+00 -9.10641693e-01 -8.91817479e-01\n",
            "  -9.48015916e-01  9.48015916e-01]\n",
            " [ 7.80177608e-01  1.45635644e-01 -9.10641693e-01  1.47044377e+00\n",
            "   1.05483461e+00 -1.05483461e+00]\n",
            " [-6.00844838e-01  1.35926601e+00  1.09812675e+00 -1.13000777e+00\n",
            "  -9.48015916e-01  9.48015916e-01]\n",
            " [ 1.79733066e-01 -1.06799472e+00  1.09812675e+00 -7.70232537e-01\n",
            "  -9.48015916e-01  9.48015916e-01]\n",
            " [ 2.39777520e-01  1.45635644e-01  1.09812675e+00 -6.91665704e-01\n",
            "  -9.48015916e-01  9.48015916e-01]\n",
            " [ 9.00266516e-01 -1.06799472e+00  1.09812675e+00 -1.02266999e+00\n",
            "  -9.48015916e-01  9.48015916e-01]\n",
            " [-1.50151165e+00 -1.06799472e+00 -9.10641693e-01 -6.57361875e-01\n",
            "   1.05483461e+00 -1.05483461e+00]\n",
            " [-1.14124493e+00 -1.06799472e+00  1.09812675e+00 -5.12815499e-01\n",
            "   1.05483461e+00 -1.05483461e+00]\n",
            " [-4.00296361e-04  1.45635644e-01 -9.10641693e-01  2.67873251e-01\n",
            "  -9.48015916e-01  9.48015916e-01]\n",
            " [-1.80173392e+00 -1.06799472e+00  1.09812675e+00  9.82906133e-02\n",
            "   1.05483461e+00 -1.05483461e+00]\n",
            " [-7.80978200e-01  1.45635644e-01 -9.10641693e-01 -8.71760805e-01\n",
            "   1.05483461e+00 -1.05483461e+00]\n",
            " [-7.80978200e-01  1.45635644e-01  1.09812675e+00 -7.15733713e-01\n",
            "   1.05483461e+00 -1.05483461e+00]\n",
            " [ 3.59866429e-01 -1.06799472e+00 -9.10641693e-01  3.15455981e-01\n",
            "  -9.48015916e-01  9.48015916e-01]\n",
            " [ 9.60310970e-01  1.45635644e-01  1.09812675e+00 -1.19986033e+00\n",
            "   1.05483461e+00 -1.05483461e+00]\n",
            " [ 1.62079997e+00  1.45635644e-01 -9.10641693e-01 -1.27884213e+00\n",
            "  -9.48015916e-01  9.48015916e-01]\n",
            " [-1.26133383e+00  1.35926601e+00 -9.10641693e-01 -7.48239357e-01\n",
            "   1.05483461e+00 -1.05483461e+00]\n",
            " [-1.14124493e+00 -1.06799472e+00  1.09812675e+00  4.35242739e-01\n",
            "   1.05483461e+00 -1.05483461e+00]\n",
            " [-1.02115602e+00 -1.06799472e+00  1.09812675e+00  3.86553433e-01\n",
            "   1.05483461e+00 -1.05483461e+00]\n",
            " [-4.20711475e-01  1.45635644e-01 -9.10641693e-01  3.15455981e-01\n",
            "  -9.48015916e-01  9.48015916e-01]\n",
            " [ 1.14044433e+00  1.35926601e+00 -9.10641693e-01 -1.14162681e+00\n",
            "  -9.48015916e-01  9.48015916e-01]\n",
            " [ 1.20048879e+00 -1.06799472e+00  1.09812675e+00  2.62570820e+00\n",
            "  -9.48015916e-01  9.48015916e-01]\n",
            " [-1.80533659e-01 -1.06799472e+00  1.09812675e+00 -4.49325751e-01\n",
            "  -9.48015916e-01  9.48015916e-01]\n",
            " [ 7.80177608e-01 -1.06799472e+00 -9.10641693e-01  4.11728017e-01\n",
            "  -9.48015916e-01  9.48015916e-01]\n",
            " [-1.80173392e+00  1.35926601e+00 -9.10641693e-01 -9.58626952e-01\n",
            "  -9.48015916e-01  9.48015916e-01]\n",
            " [ 9.00266516e-01  1.35926601e+00  1.09812675e+00 -8.19336809e-01\n",
            "  -9.48015916e-01  9.48015916e-01]\n",
            " [ 2.39777520e-01 -1.06799472e+00  1.09812675e+00 -1.34800307e+00\n",
            "  -9.48015916e-01  9.48015916e-01]\n",
            " [-4.80755930e-01 -1.06799472e+00  1.09812675e+00  9.78847768e-01\n",
            "   1.05483461e+00 -1.05483461e+00]\n",
            " [ 1.50071106e+00 -1.06799472e+00 -9.10641693e-01 -2.83201161e-01\n",
            "  -9.48015916e-01  9.48015916e-01]\n",
            " [ 1.44066660e+00  1.45635644e-01 -9.10641693e-01 -7.41967842e-02\n",
            "  -9.48015916e-01  9.48015916e-01]\n",
            " [-7.80978200e-01 -1.06799472e+00  1.09812675e+00 -9.08692750e-01\n",
            "  -9.48015916e-01  9.48015916e-01]\n",
            " [ 1.08039988e+00  1.35926601e+00 -9.10641693e-01  1.36974543e+00\n",
            "  -9.48015916e-01  9.48015916e-01]\n",
            " [-1.20489205e-01  1.45635644e-01  1.09812675e+00  4.63875370e-01\n",
            "  -9.48015916e-01  9.48015916e-01]\n",
            " [ 6.60088699e-01  1.35926601e+00 -9.10641693e-01 -9.74948935e-01\n",
            "  -9.48015916e-01  9.48015916e-01]\n",
            " [-1.68164501e+00  1.35926601e+00  1.09812675e+00 -7.16840288e-01\n",
            "  -9.48015916e-01  9.48015916e-01]\n",
            " [ 1.62079997e+00  1.45635644e-01 -9.10641693e-01  4.08870287e-02\n",
            "  -9.48015916e-01  9.48015916e-01]\n",
            " [-3.00622567e-01  1.35926601e+00 -9.10641693e-01 -8.17676946e-01\n",
            "   1.05483461e+00 -1.05483461e+00]\n",
            " [ 1.38062215e+00  1.45635644e-01 -9.10641693e-01 -7.91672430e-01\n",
            "  -9.48015916e-01  9.48015916e-01]\n",
            " [-3.60667021e-01  1.35926601e+00  1.09812675e+00  1.67451559e-01\n",
            "   1.05483461e+00 -1.05483461e+00]]\n"
          ],
          "name": "stdout"
        }
      ]
    },
    {
      "cell_type": "code",
      "metadata": {
        "id": "JUd6iBRp2C3L",
        "outputId": "e201d73d-0610-442f-9c77-06d5fb9f3887",
        "colab": {
          "base_uri": "https://localhost:8080/",
          "height": 1000
        }
      },
      "source": [
        "print(X_test)"
      ],
      "execution_count": 20,
      "outputs": [
        {
          "output_type": "stream",
          "text": [
            "[[-1.32137829e+00  1.45635644e-01 -9.10641693e-01 -1.20566985e+00\n",
            "  -9.48015916e-01  9.48015916e-01]\n",
            " [-1.02115602e+00  1.35926601e+00 -9.10641693e-01 -4.33695378e-01\n",
            "   1.05483461e+00 -1.05483461e+00]\n",
            " [-1.80533659e-01  1.45635644e-01 -9.10641693e-01  5.53092989e-01\n",
            "  -9.48015916e-01  9.48015916e-01]\n",
            " [-1.50151165e+00 -1.06799472e+00  1.09812675e+00  2.71451085e+00\n",
            "  -9.48015916e-01  9.48015916e-01]\n",
            " [-1.20128938e+00  1.35926601e+00 -9.10641693e-01  4.14494455e-01\n",
            "  -9.48015916e-01  9.48015916e-01]\n",
            " [-1.50151165e+00  1.45635644e-01  1.09812675e+00 -5.98713393e-01\n",
            "   1.05483461e+00 -1.05483461e+00]\n",
            " [-1.38142274e+00  1.35926601e+00 -9.10641693e-01 -1.02460649e+00\n",
            "   1.05483461e+00 -1.05483461e+00]\n",
            " [-4.80755930e-01  1.45635644e-01  1.09812675e+00 -5.54450388e-01\n",
            "   1.05483461e+00 -1.05483461e+00]\n",
            " [-1.20489205e-01  1.45635644e-01 -9.10641693e-01 -8.83056171e-02\n",
            "  -9.48015916e-01  9.48015916e-01]\n",
            " [ 6.00044245e-01  1.35926601e+00  1.09812675e+00 -1.21078776e+00\n",
            "  -9.48015916e-01  9.48015916e-01]\n",
            " [-1.26133383e+00 -1.06799472e+00  1.09812675e+00 -9.04543093e-01\n",
            "  -9.48015916e-01  9.48015916e-01]\n",
            " [-1.56155610e+00 -1.06799472e+00  1.09812675e+00  1.37693817e+00\n",
            "   1.05483461e+00 -1.05483461e+00]\n",
            " [-1.38142274e+00 -1.06799472e+00  1.09812675e+00  9.41085892e-01\n",
            "   1.05483461e+00 -1.05483461e+00]\n",
            " [-4.80755930e-01  1.45635644e-01  1.09812675e+00  9.81522914e-02\n",
            "  -9.48015916e-01  9.48015916e-01]\n",
            " [ 9.00266516e-01 -1.06799472e+00 -9.10641693e-01 -2.87765783e-01\n",
            "  -9.48015916e-01  9.48015916e-01]\n",
            " [-2.40578113e-01  1.45635644e-01 -9.10641693e-01 -6.88484300e-01\n",
            "  -9.48015916e-01  9.48015916e-01]\n",
            " [ 1.20048879e+00 -1.06799472e+00  1.09812675e+00  2.19400558e+00\n",
            "   1.05483461e+00 -1.05483461e+00]\n",
            " [ 1.50071106e+00  1.35926601e+00 -9.10641693e-01  6.18934209e-01\n",
            "   1.05483461e+00 -1.05483461e+00]\n",
            " [-3.60667021e-01  1.45635644e-01  1.09812675e+00 -2.87212496e-01\n",
            "  -9.48015916e-01  9.48015916e-01]\n",
            " [-8.41022655e-01 -1.06799472e+00  1.09812675e+00  1.45873344e-01\n",
            "  -9.48015916e-01  9.48015916e-01]\n",
            " [-5.40800384e-01 -1.06799472e+00  1.09812675e+00 -7.25369215e-02\n",
            "   1.05483461e+00 -1.05483461e+00]\n",
            " [ 9.60310970e-01  1.35926601e+00 -9.10641693e-01 -9.08969394e-01\n",
            "  -9.48015916e-01  9.48015916e-01]\n",
            " [ 1.26053324e+00  1.35926601e+00  1.09812675e+00 -1.09376744e+00\n",
            "   1.05483461e+00 -1.05483461e+00]\n",
            " [-6.60889292e-01  1.45635644e-01  1.09812675e+00 -4.27609215e-01\n",
            "   1.05483461e+00 -1.05483461e+00]\n",
            " [-4.20711475e-01  1.45635644e-01  1.09812675e+00  1.91722347e+00\n",
            "   1.05483461e+00 -1.05483461e+00]\n",
            " [-5.40800384e-01  1.35926601e+00 -9.10641693e-01  1.02163626e-01\n",
            "   1.05483461e+00 -1.05483461e+00]\n",
            " [ 1.32057770e+00  1.35926601e+00 -9.10641693e-01 -1.70698434e-02\n",
            "   1.05483461e+00 -1.05483461e+00]\n",
            " [ 7.20133154e-01  1.35926601e+00  1.09812675e+00  1.36642571e+00\n",
            "   1.05483461e+00 -1.05483461e+00]\n",
            " [-6.60889292e-01  1.35926601e+00 -9.10641693e-01  8.91013368e-01\n",
            "  -9.48015916e-01  9.48015916e-01]\n",
            " [ 2.99821974e-01  1.35926601e+00  1.09812675e+00 -5.14475362e-01\n",
            "   1.05483461e+00 -1.05483461e+00]\n",
            " [ 1.44066660e+00  1.45635644e-01  1.09812675e+00 -6.30665750e-01\n",
            "  -9.48015916e-01  9.48015916e-01]\n",
            " [-1.14124493e+00  1.45635644e-01 -9.10641693e-01 -2.56505036e-01\n",
            "   1.05483461e+00 -1.05483461e+00]\n",
            " [ 2.39777520e-01 -1.06799472e+00  1.09812675e+00 -1.01174256e+00\n",
            "  -9.48015916e-01  9.48015916e-01]\n",
            " [ 1.19688612e-01  1.35926601e+00  1.09812675e+00 -1.29073781e+00\n",
            "   1.05483461e+00 -1.05483461e+00]\n",
            " [ 1.19688612e-01  1.45635644e-01  1.09812675e+00  2.01308054e+00\n",
            "  -9.48015916e-01  9.48015916e-01]\n",
            " [ 1.14044433e+00 -1.06799472e+00  1.09812675e+00  6.80210807e-01\n",
            "  -9.48015916e-01  9.48015916e-01]\n",
            " [-7.80978200e-01  1.35926601e+00 -9.10641693e-01 -1.18091023e+00\n",
            "   1.05483461e+00 -1.05483461e+00]\n",
            " [ 9.60310970e-01  1.45635644e-01 -9.10641693e-01  2.80598865e-01\n",
            "   1.05483461e+00 -1.05483461e+00]\n",
            " [-4.20711475e-01 -1.06799472e+00  1.09812675e+00 -6.48509274e-01\n",
            "   1.05483461e+00 -1.05483461e+00]\n",
            " [-1.38142274e+00  1.35926601e+00 -9.10641693e-01 -5.61781448e-01\n",
            "  -9.48015916e-01  9.48015916e-01]\n",
            " [-1.80533659e-01 -1.06799472e+00 -9.10641693e-01  6.94596283e-01\n",
            "   1.05483461e+00 -1.05483461e+00]\n",
            " [-9.61111563e-01 -1.06799472e+00 -9.10641693e-01 -4.36876781e-01\n",
            "  -9.48015916e-01  9.48015916e-01]\n",
            " [-8.41022655e-01 -1.06799472e+00 -9.10641693e-01  1.98513952e+00\n",
            "  -9.48015916e-01  9.48015916e-01]\n",
            " [ 1.20048879e+00  1.45635644e-01  1.09812675e+00 -3.10588895e-01\n",
            "   1.05483461e+00 -1.05483461e+00]\n",
            " [ 3.59866429e-01  1.45635644e-01  1.09812675e+00  9.66675442e-01\n",
            "   1.05483461e+00 -1.05483461e+00]\n",
            " [-4.00296361e-04  1.45635644e-01  1.09812675e+00 -1.05738878e+00\n",
            "  -9.48015916e-01  9.48015916e-01]\n",
            " [ 9.00266516e-01  1.35926601e+00 -9.10641693e-01 -1.16661605e-01\n",
            "  -9.48015916e-01  9.48015916e-01]\n",
            " [-1.14124493e+00  1.45635644e-01  1.09812675e+00  6.77029403e-01\n",
            "  -9.48015916e-01  9.48015916e-01]\n",
            " [-7.80978200e-01 -1.06799472e+00  1.09812675e+00 -7.91534109e-01\n",
            "   1.05483461e+00 -1.05483461e+00]\n",
            " [ 1.74088887e+00 -1.06799472e+00  1.09812675e+00 -8.00063036e-02\n",
            "  -9.48015916e-01  9.48015916e-01]]\n"
          ],
          "name": "stdout"
        }
      ]
    },
    {
      "cell_type": "markdown",
      "metadata": {
        "id": "bb6jCOCQiAmP"
      },
      "source": [
        "## Training the Random Forest Classification model on the Train set"
      ]
    },
    {
      "cell_type": "code",
      "metadata": {
        "id": "WFCwyaudsZou",
        "outputId": "b9e9c6e5-eea8-42d6-896b-fbf04b3e9b79",
        "colab": {
          "base_uri": "https://localhost:8080/",
          "height": 150
        }
      },
      "source": [
        "from sklearn.ensemble import RandomForestClassifier\n",
        "classifier = RandomForestClassifier(n_estimators = 100, criterion = 'entropy', random_state = 0)\n",
        "classifier.fit(X_train,y_train)"
      ],
      "execution_count": 21,
      "outputs": [
        {
          "output_type": "execute_result",
          "data": {
            "text/plain": [
              "RandomForestClassifier(bootstrap=True, ccp_alpha=0.0, class_weight=None,\n",
              "                       criterion='entropy', max_depth=None, max_features='auto',\n",
              "                       max_leaf_nodes=None, max_samples=None,\n",
              "                       min_impurity_decrease=0.0, min_impurity_split=None,\n",
              "                       min_samples_leaf=1, min_samples_split=2,\n",
              "                       min_weight_fraction_leaf=0.0, n_estimators=100,\n",
              "                       n_jobs=None, oob_score=False, random_state=0, verbose=0,\n",
              "                       warm_start=False)"
            ]
          },
          "metadata": {
            "tags": []
          },
          "execution_count": 21
        }
      ]
    },
    {
      "cell_type": "markdown",
      "metadata": {
        "id": "yyxW5b395mR2"
      },
      "source": [
        "## Predicting a new result for a single example"
      ]
    },
    {
      "cell_type": "code",
      "metadata": {
        "id": "f8YOXsQy58rP",
        "outputId": "6467ae38-13e7-41fc-c416-1246c36e3609",
        "colab": {
          "base_uri": "https://localhost:8080/",
          "height": 33
        }
      },
      "source": [
        "print(classifier.predict(sc.transform([[23, 1, 0, 7.297999999999999, 0, 1]])))"
      ],
      "execution_count": 22,
      "outputs": [
        {
          "output_type": "stream",
          "text": [
            "['drugC']\n"
          ],
          "name": "stdout"
        }
      ]
    },
    {
      "cell_type": "markdown",
      "metadata": {
        "id": "vKYVQH-l5NpE"
      },
      "source": [
        "## Predicting the entire Test set"
      ]
    },
    {
      "cell_type": "code",
      "metadata": {
        "id": "p6VMTb2O4hwM",
        "outputId": "d6cc6d88-a2f8-45b3-8e7f-d3c222b26673",
        "colab": {
          "base_uri": "https://localhost:8080/",
          "height": 853
        }
      },
      "source": [
        "y_pred = classifier.predict(X_test)\n",
        "print(np.concatenate((y_pred.reshape(len(y_pred),1), y_test.reshape(len(y_test),1)),1))"
      ],
      "execution_count": 23,
      "outputs": [
        {
          "output_type": "stream",
          "text": [
            "[['drugC' 'drugC']\n",
            " ['drugX' 'drugX']\n",
            " ['drugY' 'drugY']\n",
            " ['drugY' 'drugY']\n",
            " ['drugY' 'drugY']\n",
            " ['drugX' 'drugX']\n",
            " ['drugX' 'drugX']\n",
            " ['drugX' 'drugX']\n",
            " ['drugY' 'drugY']\n",
            " ['drugX' 'drugX']\n",
            " ['drugA' 'drugA']\n",
            " ['drugY' 'drugY']\n",
            " ['drugY' 'drugY']\n",
            " ['drugY' 'drugY']\n",
            " ['drugB' 'drugB']\n",
            " ['drugC' 'drugC']\n",
            " ['drugY' 'drugY']\n",
            " ['drugY' 'drugY']\n",
            " ['drugX' 'drugX']\n",
            " ['drugY' 'drugY']\n",
            " ['drugY' 'drugY']\n",
            " ['drugX' 'drugX']\n",
            " ['drugX' 'drugX']\n",
            " ['drugX' 'drugX']\n",
            " ['drugY' 'drugY']\n",
            " ['drugY' 'drugY']\n",
            " ['drugY' 'drugY']\n",
            " ['drugY' 'drugY']\n",
            " ['drugY' 'drugY']\n",
            " ['drugX' 'drugX']\n",
            " ['drugX' 'drugX']\n",
            " ['drugC' 'drugC']\n",
            " ['drugA' 'drugA']\n",
            " ['drugX' 'drugX']\n",
            " ['drugY' 'drugY']\n",
            " ['drugY' 'drugY']\n",
            " ['drugX' 'drugX']\n",
            " ['drugY' 'drugY']\n",
            " ['drugA' 'drugA']\n",
            " ['drugX' 'drugX']\n",
            " ['drugY' 'drugY']\n",
            " ['drugA' 'drugA']\n",
            " ['drugY' 'drugY']\n",
            " ['drugX' 'drugX']\n",
            " ['drugY' 'drugY']\n",
            " ['drugX' 'drugX']\n",
            " ['drugY' 'drugY']\n",
            " ['drugY' 'drugY']\n",
            " ['drugA' 'drugA']\n",
            " ['drugY' 'drugY']]\n"
          ],
          "name": "stdout"
        }
      ]
    },
    {
      "cell_type": "markdown",
      "metadata": {
        "id": "h4Hwj34ziWQW"
      },
      "source": [
        "## Making the Confusion Matrix"
      ]
    },
    {
      "cell_type": "code",
      "metadata": {
        "id": "D6bpZwUiiXic",
        "outputId": "a20d4773-3d15-46bb-8155-9d2c23726f26",
        "colab": {
          "base_uri": "https://localhost:8080/",
          "height": 117
        }
      },
      "source": [
        "from sklearn.metrics import confusion_matrix, accuracy_score\n",
        "cm = confusion_matrix(y_test, y_pred, labels=['drugA','drugB','drugC','drugX','drugY'])\n",
        "print(cm)\n",
        "print('Accuracy is',accuracy_score(y_test, y_pred))"
      ],
      "execution_count": 24,
      "outputs": [
        {
          "output_type": "stream",
          "text": [
            "[[ 5  0  0  0  0]\n",
            " [ 0  1  0  0  0]\n",
            " [ 0  0  3  0  0]\n",
            " [ 0  0  0 16  0]\n",
            " [ 0  0  0  0 25]]\n",
            "Accuracy is 1.0\n"
          ],
          "name": "stdout"
        }
      ]
    },
    {
      "cell_type": "code",
      "metadata": {
        "id": "amtfBq5AA7n6",
        "outputId": "6ec36005-2815-49f4-b455-d6bd349e7347",
        "colab": {
          "base_uri": "https://localhost:8080/",
          "height": 134
        }
      },
      "source": [
        "# Checking contents of Labels in y_test array\n",
        "pd.DataFrame(y_test, columns=['Drug']).groupby('Drug').size()"
      ],
      "execution_count": 25,
      "outputs": [
        {
          "output_type": "execute_result",
          "data": {
            "text/plain": [
              "Drug\n",
              "drugA     5\n",
              "drugB     1\n",
              "drugC     3\n",
              "drugX    16\n",
              "drugY    25\n",
              "dtype: int64"
            ]
          },
          "metadata": {
            "tags": []
          },
          "execution_count": 25
        }
      ]
    },
    {
      "cell_type": "markdown",
      "metadata": {
        "id": "ngAhhp70FeXM"
      },
      "source": [
        "## Plotting the Confusion Matrix"
      ]
    },
    {
      "cell_type": "code",
      "metadata": {
        "id": "xdDY9IxU_5NY"
      },
      "source": [
        "import itertools\n",
        "\n",
        "# Defining th function for plotting Confusion Matrix\n",
        "\n",
        "def plot_confusion_matrix(cm, classes,\n",
        "                          normalize=False,\n",
        "                          title='Confusion matrix',\n",
        "                          cmap=plt.cm.Blues):\n",
        "    \"\"\"\n",
        "    This function prints and plots the confusion matrix.\n",
        "    Normalization can be applied by setting `normalize=True`.\n",
        "    \"\"\"\n",
        "    if normalize:\n",
        "        cm = cm.astype('float') / cm.sum(axis=1)[:, np.newaxis]\n",
        "        print(\"Normalized confusion matrix\")\n",
        "    else:\n",
        "        print('Confusion matrix, without normalization')\n",
        "\n",
        "    print(cm)\n",
        "\n",
        "    plt.imshow(cm, interpolation='nearest', cmap=cmap)\n",
        "    plt.title(title)\n",
        "    plt.colorbar()\n",
        "    tick_marks = np.arange(len(classes))\n",
        "    plt.xticks(tick_marks, classes, rotation=45)\n",
        "    plt.yticks(tick_marks, classes)\n",
        "\n",
        "    fmt = '.2f' if normalize else 'd'\n",
        "    thresh = cm.max() / 2.\n",
        "    for i, j in itertools.product(range(cm.shape[0]), range(cm.shape[1])):\n",
        "        plt.text(j, i, format(cm[i, j], fmt),\n",
        "                 horizontalalignment=\"center\",\n",
        "                 color=\"white\" if cm[i, j] > thresh else \"black\")\n",
        "\n",
        "    plt.tight_layout()\n",
        "    plt.ylabel('True label')\n",
        "    plt.xlabel('Predicted label')"
      ],
      "execution_count": 26,
      "outputs": []
    },
    {
      "cell_type": "code",
      "metadata": {
        "id": "2au5CT-tAIm_",
        "outputId": "c3bbc86d-c702-4d91-b782-ffddcaa0cd68",
        "colab": {
          "base_uri": "https://localhost:8080/",
          "height": 412
        }
      },
      "source": [
        "# Plotting non-normalized confusion matrix\n",
        "plt.figure()\n",
        "plot_confusion_matrix(cm, classes=['drugA','drugB','drugC','drugX','drugY'],normalize= False,  title='Confusion matrix')"
      ],
      "execution_count": 27,
      "outputs": [
        {
          "output_type": "stream",
          "text": [
            "Confusion matrix, without normalization\n",
            "[[ 5  0  0  0  0]\n",
            " [ 0  1  0  0  0]\n",
            " [ 0  0  3  0  0]\n",
            " [ 0  0  0 16  0]\n",
            " [ 0  0  0  0 25]]\n"
          ],
          "name": "stdout"
        },
        {
          "output_type": "display_data",
          "data": {
            "image/png": "[encoded data removed]",
            "text/plain": [
              "<Figure size 432x288 with 2 Axes>"
            ]
          },
          "metadata": {
            "tags": [],
            "needs_background": "light"
          }
        }
      ]
    }
  ]
}